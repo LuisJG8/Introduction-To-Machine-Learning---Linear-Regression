{
 "cells": [
  {
   "cell_type": "code",
   "execution_count": 1,
   "id": "12172618",
   "metadata": {
    "execution": {
     "iopub.execute_input": "2023-12-14T17:08:14.000140Z",
     "iopub.status.busy": "2023-12-14T17:08:13.999702Z",
     "iopub.status.idle": "2023-12-14T17:08:14.796490Z",
     "shell.execute_reply": "2023-12-14T17:08:14.796211Z"
    },
    "id": "12172618"
   },
   "outputs": [],
   "source": [
    "import numpy as np\n",
    "import pandas as pd\n",
    "import matplotlib.pyplot as plt\n",
    "from mpl_toolkits import mplot3d\n",
    "\n",
    "from sklearn.preprocessing import StandardScaler\n",
    "from sklearn.neighbors import KNeighborsRegressor"
   ]
  },
  {
   "cell_type": "code",
   "execution_count": 2,
   "id": "a972fd17",
   "metadata": {
    "execution": {
     "iopub.execute_input": "2023-12-14T17:08:14.798164Z",
     "iopub.status.busy": "2023-12-14T17:08:14.798046Z",
     "iopub.status.idle": "2023-12-14T17:08:14.810069Z",
     "shell.execute_reply": "2023-12-14T17:08:14.809769Z"
    },
    "id": "a972fd17",
    "outputId": "ec8fb3a3-f4a8-492c-cea1-79fd4bb1a8fe"
   },
   "outputs": [
    {
     "data": {
      "text/html": [
       "<div>\n",
       "<style scoped>\n",
       "    .dataframe tbody tr th:only-of-type {\n",
       "        vertical-align: middle;\n",
       "    }\n",
       "\n",
       "    .dataframe tbody tr th {\n",
       "        vertical-align: top;\n",
       "    }\n",
       "\n",
       "    .dataframe thead th {\n",
       "        text-align: right;\n",
       "    }\n",
       "</style>\n",
       "<table border=\"1\" class=\"dataframe\">\n",
       "  <thead>\n",
       "    <tr style=\"text-align: right;\">\n",
       "      <th></th>\n",
       "      <th>price</th>\n",
       "      <th>beds</th>\n",
       "      <th>baths</th>\n",
       "      <th>sqft</th>\n",
       "    </tr>\n",
       "  </thead>\n",
       "  <tbody>\n",
       "    <tr>\n",
       "      <th>1844</th>\n",
       "      <td>1800</td>\n",
       "      <td>3.0</td>\n",
       "      <td>2.0</td>\n",
       "      <td>1280.0</td>\n",
       "    </tr>\n",
       "    <tr>\n",
       "      <th>1846</th>\n",
       "      <td>3995</td>\n",
       "      <td>3.0</td>\n",
       "      <td>2.5</td>\n",
       "      <td>1739.0</td>\n",
       "    </tr>\n",
       "    <tr>\n",
       "      <th>1847</th>\n",
       "      <td>2774</td>\n",
       "      <td>2.0</td>\n",
       "      <td>1.0</td>\n",
       "      <td>973.0</td>\n",
       "    </tr>\n",
       "    <tr>\n",
       "      <th>1850</th>\n",
       "      <td>2560</td>\n",
       "      <td>3.0</td>\n",
       "      <td>1.0</td>\n",
       "      <td>880.0</td>\n",
       "    </tr>\n",
       "    <tr>\n",
       "      <th>1855</th>\n",
       "      <td>2650</td>\n",
       "      <td>2.0</td>\n",
       "      <td>1.0</td>\n",
       "      <td>850.0</td>\n",
       "    </tr>\n",
       "  </tbody>\n",
       "</table>\n",
       "</div>"
      ],
      "text/plain": [
       "      price  beds  baths    sqft\n",
       "1844   1800   3.0    2.0  1280.0\n",
       "1846   3995   3.0    2.5  1739.0\n",
       "1847   2774   2.0    1.0   973.0\n",
       "1850   2560   3.0    1.0   880.0\n",
       "1855   2650   2.0    1.0   850.0"
      ]
     },
     "execution_count": 2,
     "metadata": {},
     "output_type": "execute_result"
    }
   ],
   "source": [
    "# Load the dataset\n",
    "rent_all = pd.read_csv('rent18.csv')\n",
    "\n",
    "# Keep subset of features, drop missing values\n",
    "rent = rent_all[rent_all['city']=='san jose']\n",
    "rent = rent[['price', 'beds', 'baths', 'sqft']].dropna()\n",
    "rent.head()"
   ]
  },
  {
   "cell_type": "code",
   "execution_count": 3,
   "id": "41479e3e",
   "metadata": {
    "execution": {
     "iopub.execute_input": "2023-12-14T17:08:14.812073Z",
     "iopub.status.busy": "2023-12-14T17:08:14.811963Z",
     "iopub.status.idle": "2023-12-14T17:08:14.860234Z",
     "shell.execute_reply": "2023-12-14T17:08:14.859921Z"
    },
    "id": "41479e3e",
    "outputId": "39de77b2-0ece-4f1e-86e8-a81790a7b3f6"
   },
   "outputs": [
    {
     "data": {
      "image/png": "[encoded data removed]",
      "text/plain": [
       "<Figure size 400x300 with 1 Axes>"
      ]
     },
     "metadata": {},
     "output_type": "display_data"
    }
   ],
   "source": [
    "# Predict price from sqft\n",
    "# Define input and output features\n",
    "X = rent[['sqft']]\n",
    "y = rent[['price']]\n",
    "\n",
    "\n",
    "# Plot sqft and price\n",
    "fig = plt.figure(figsize = (4,3))\n",
    "plt.scatter(X, y, color='#1f77b4')\n",
    "plt.xlabel('Square footage', fontsize=14)\n",
    "plt.ylabel('Price ($)', fontsize=14)\n",
    "plt.ylim([700,5000])\n",
    "plt.xlim([200, 3000])\n",
    "\n",
    "plt.show()"
   ]
  },
  {
   "cell_type": "code",
   "execution_count": 4,
   "id": "ce4e57aa",
   "metadata": {
    "execution": {
     "iopub.execute_input": "2023-12-14T17:08:14.861927Z",
     "iopub.status.busy": "2023-12-14T17:08:14.861841Z",
     "iopub.status.idle": "2023-12-14T17:08:14.864878Z",
     "shell.execute_reply": "2023-12-14T17:08:14.864605Z"
    },
    "id": "ce4e57aa"
   },
   "outputs": [],
   "source": [
    "# Initiate and fit a k-nearest neighbors regression model with k=5\n",
    "knnr = KNeighborsRegressor(n_neighbors=5)\n",
    "knnrFit = knnr.fit(X,y)"
   ]
  },
  {
   "cell_type": "code",
   "execution_count": 5,
   "id": "c3c176ff",
   "metadata": {
    "execution": {
     "iopub.execute_input": "2023-12-14T17:08:14.866571Z",
     "iopub.status.busy": "2023-12-14T17:08:14.866415Z",
     "iopub.status.idle": "2023-12-14T17:08:14.870872Z",
     "shell.execute_reply": "2023-12-14T17:08:14.870345Z"
    },
    "id": "c3c176ff",
    "outputId": "5c1fc84b-7dc2-4c81-bd98-37714c0836a3"
   },
   "outputs": [
    {
     "name": "stderr",
     "output_type": "stream",
     "text": [
      "/nix/store/msas3yllgpa9cv1srn6gxry7ygra9hwm-python3-3.10.9-env/lib/python3.10/site-packages/sklearn/base.py:420: UserWarning: X does not have valid feature names, but KNeighborsRegressor was fitted with feature names\n",
      "  warnings.warn(\n"
     ]
    },
    {
     "data": {
      "text/plain": [
       "array([[3935.]])"
      ]
     },
     "execution_count": 5,
     "metadata": {},
     "output_type": "execute_result"
    }
   ],
   "source": [
    "# Define a new instance with 2000 square feet\n",
    "Xnew = [[2000]]\n",
    "\n",
    "# Predict price for new instance\n",
    "neighbors = knnrFit.predict(Xnew)\n",
    "neighbors"
   ]
  },
  {
   "cell_type": "code",
   "execution_count": 6,
   "id": "9cd8ad11",
   "metadata": {
    "execution": {
     "iopub.execute_input": "2023-12-14T17:08:14.872664Z",
     "iopub.status.busy": "2023-12-14T17:08:14.872548Z",
     "iopub.status.idle": "2023-12-14T17:08:14.880881Z",
     "shell.execute_reply": "2023-12-14T17:08:14.878812Z"
    },
    "id": "9cd8ad11",
    "outputId": "68c9d1d8-4e5d-40d7-87b3-e3d3e6c84b73"
   },
   "outputs": [
    {
     "name": "stderr",
     "output_type": "stream",
     "text": [
      "/nix/store/msas3yllgpa9cv1srn6gxry7ygra9hwm-python3-3.10.9-env/lib/python3.10/site-packages/sklearn/base.py:420: UserWarning: X does not have valid feature names, but KNeighborsRegressor was fitted with feature names\n",
      "  warnings.warn(\n"
     ]
    },
    {
     "data": {
      "text/plain": [
       "array([[ 17.,  50.,  75., 100., 100.]])"
      ]
     },
     "execution_count": 6,
     "metadata": {},
     "output_type": "execute_result"
    }
   ],
   "source": [
    "# Find the 5 nearest neighbors for the new instance\n",
    "neighbors = knnrFit.kneighbors(Xnew)\n",
    "\n",
    "# Return only the distances between the new instance and each of the the 5 nearest neighbors\n",
    "neighbors[0]"
   ]
  },
  {
   "cell_type": "code",
   "execution_count": 7,
   "id": "3f1defe1",
   "metadata": {
    "execution": {
     "iopub.execute_input": "2023-12-14T17:08:14.882645Z",
     "iopub.status.busy": "2023-12-14T17:08:14.882515Z",
     "iopub.status.idle": "2023-12-14T17:08:14.886909Z",
     "shell.execute_reply": "2023-12-14T17:08:14.886328Z"
    },
    "id": "3f1defe1",
    "outputId": "8e80da3e-67fb-480a-90c3-311beea8db13"
   },
   "outputs": [
    {
     "data": {
      "text/html": [
       "<div>\n",
       "<style scoped>\n",
       "    .dataframe tbody tr th:only-of-type {\n",
       "        vertical-align: middle;\n",
       "    }\n",
       "\n",
       "    .dataframe tbody tr th {\n",
       "        vertical-align: top;\n",
       "    }\n",
       "\n",
       "    .dataframe thead th {\n",
       "        text-align: right;\n",
       "    }\n",
       "</style>\n",
       "<table border=\"1\" class=\"dataframe\">\n",
       "  <thead>\n",
       "    <tr style=\"text-align: right;\">\n",
       "      <th></th>\n",
       "      <th>price</th>\n",
       "      <th>beds</th>\n",
       "      <th>baths</th>\n",
       "      <th>sqft</th>\n",
       "    </tr>\n",
       "  </thead>\n",
       "  <tbody>\n",
       "    <tr>\n",
       "      <th>2018</th>\n",
       "      <td>3250</td>\n",
       "      <td>3.0</td>\n",
       "      <td>2.5</td>\n",
       "      <td>1983.0</td>\n",
       "    </tr>\n",
       "    <tr>\n",
       "      <th>2000</th>\n",
       "      <td>4250</td>\n",
       "      <td>4.0</td>\n",
       "      <td>3.0</td>\n",
       "      <td>1950.0</td>\n",
       "    </tr>\n",
       "    <tr>\n",
       "      <th>2026</th>\n",
       "      <td>4200</td>\n",
       "      <td>3.0</td>\n",
       "      <td>2.5</td>\n",
       "      <td>1925.0</td>\n",
       "    </tr>\n",
       "    <tr>\n",
       "      <th>1997</th>\n",
       "      <td>4475</td>\n",
       "      <td>4.0</td>\n",
       "      <td>3.0</td>\n",
       "      <td>2100.0</td>\n",
       "    </tr>\n",
       "    <tr>\n",
       "      <th>1993</th>\n",
       "      <td>3500</td>\n",
       "      <td>4.0</td>\n",
       "      <td>2.5</td>\n",
       "      <td>1900.0</td>\n",
       "    </tr>\n",
       "  </tbody>\n",
       "</table>\n",
       "</div>"
      ],
      "text/plain": [
       "      price  beds  baths    sqft\n",
       "2018   3250   3.0    2.5  1983.0\n",
       "2000   4250   4.0    3.0  1950.0\n",
       "2026   4200   3.0    2.5  1925.0\n",
       "1997   4475   4.0    3.0  2100.0\n",
       "1993   3500   4.0    2.5  1900.0"
      ]
     },
     "execution_count": 7,
     "metadata": {},
     "output_type": "execute_result"
    }
   ],
   "source": [
    "# Return the data frame instances of the 5 nearest neighbors\n",
    "rent.iloc[neighbors[1][0]]"
   ]
  },
  {
   "cell_type": "markdown",
   "id": "fc4a41cd",
   "metadata": {
    "id": "fc4a41cd"
   },
   "source": [
    "Instances in the neighborhood have similar square footage, but different numbers of bedrooms and bathrooms. Adding beds and baths as input features, in addition to square footage, seems reasonable.\n"
   ]
  },
  {
   "cell_type": "code",
   "execution_count": 8,
   "id": "894979fc",
   "metadata": {
    "execution": {
     "iopub.execute_input": "2023-12-14T17:08:14.889089Z",
     "iopub.status.busy": "2023-12-14T17:08:14.889004Z",
     "iopub.status.idle": "2023-12-14T17:08:14.928618Z",
     "shell.execute_reply": "2023-12-14T17:08:14.928325Z"
    },
    "id": "894979fc",
    "outputId": "dec7326d-ba37-4778-fe57-e754257d7ebb"
   },
   "outputs": [
    {
     "name": "stderr",
     "output_type": "stream",
     "text": [
      "/nix/store/msas3yllgpa9cv1srn6gxry7ygra9hwm-python3-3.10.9-env/lib/python3.10/site-packages/sklearn/base.py:420: UserWarning: X does not have valid feature names, but KNeighborsRegressor was fitted with feature names\n",
      "  warnings.warn(\n"
     ]
    },
    {
     "data": {
      "image/png": "[encoded data removed]",
      "text/plain": [
       "<Figure size 400x300 with 1 Axes>"
      ]
     },
     "metadata": {},
     "output_type": "display_data"
    }
   ],
   "source": [
    "# Plot data with k-nearest neighbors prediction\n",
    "Xvals=np.linspace(200, 3000, 100).reshape(-1, 1)\n",
    "knnrPred = knnr.predict(Xvals)\n",
    "\n",
    "fig = plt.figure(figsize = (4,3))\n",
    "plt.scatter(X, y, color='#1f77b4')\n",
    "plt.plot(Xvals, knnrPred, color='#ff7f0e', linewidth=2)\n",
    "plt.xlabel('Square footage', fontsize=14)\n",
    "plt.ylabel('Price ($)', fontsize=14)\n",
    "plt.ylim([700,5000])\n",
    "plt.xlim([200, 3000])\n",
    "\n",
    "plt.show()"
   ]
  },
  {
   "cell_type": "code",
   "execution_count": 9,
   "id": "f80655fa",
   "metadata": {
    "execution": {
     "iopub.execute_input": "2023-12-14T17:08:14.930140Z",
     "iopub.status.busy": "2023-12-14T17:08:14.930021Z",
     "iopub.status.idle": "2023-12-14T17:08:14.933565Z",
     "shell.execute_reply": "2023-12-14T17:08:14.933237Z"
    },
    "id": "f80655fa"
   },
   "outputs": [],
   "source": [
    "# Define input features as sqft, beds, and baths\n",
    "X = rent[['sqft', 'beds', 'baths']]\n",
    "y = rent[['price']]\n",
    "\n",
    "# Scale the input features\n",
    "scaler = StandardScaler()\n",
    "Xscaled = scaler.fit_transform(X)"
   ]
  },
  {
   "cell_type": "code",
   "execution_count": 10,
   "id": "a5a6215e",
   "metadata": {
    "execution": {
     "iopub.execute_input": "2023-12-14T17:08:14.935137Z",
     "iopub.status.busy": "2023-12-14T17:08:14.935056Z",
     "iopub.status.idle": "2023-12-14T17:08:14.938002Z",
     "shell.execute_reply": "2023-12-14T17:08:14.937763Z"
    },
    "id": "a5a6215e"
   },
   "outputs": [],
   "source": [
    "# Initiate and fit a k-nearest neighbors regression model with k=5 on unscaled input features\n",
    "knnrUnscaled = KNeighborsRegressor(n_neighbors=5)\n",
    "knnrUnscaledFit = knnrUnscaled.fit(X, y)"
   ]
  },
  {
   "cell_type": "code",
   "execution_count": 11,
   "id": "f84d7315",
   "metadata": {
    "execution": {
     "iopub.execute_input": "2023-12-14T17:08:14.939902Z",
     "iopub.status.busy": "2023-12-14T17:08:14.939808Z",
     "iopub.status.idle": "2023-12-14T17:08:14.942145Z",
     "shell.execute_reply": "2023-12-14T17:08:14.941911Z"
    },
    "id": "f84d7315"
   },
   "outputs": [],
   "source": [
    "# Initiate and fit a k-nearest neighbors regression model with k=5 on unscaled input features\n",
    "knnrScaled = KNeighborsRegressor(n_neighbors=5)\n",
    "knnrScaledFit = knnrScaled.fit(Xscaled, y)"
   ]
  },
  {
   "cell_type": "code",
   "execution_count": 12,
   "id": "777f4a3f",
   "metadata": {
    "execution": {
     "iopub.execute_input": "2023-12-14T17:08:14.946098Z",
     "iopub.status.busy": "2023-12-14T17:08:14.945982Z",
     "iopub.status.idle": "2023-12-14T17:08:14.950599Z",
     "shell.execute_reply": "2023-12-14T17:08:14.948322Z"
    },
    "id": "777f4a3f",
    "outputId": "0f2bece5-71ce-4f78-9ca8-c189ca677bcd"
   },
   "outputs": [
    {
     "data": {
      "text/plain": [
       "[[2000, 2, 1]]"
      ]
     },
     "execution_count": 12,
     "metadata": {},
     "output_type": "execute_result"
    }
   ],
   "source": [
    "# Define new instance with 2000 square feet, 2 bedrooms, 1 bathroom\n",
    "Xsqft = 2000\n",
    "Xbeds = 2\n",
    "Xbaths = 1\n",
    "Xnew = [[Xsqft, Xbeds, Xbaths]]\n",
    "Xnew"
   ]
  },
  {
   "cell_type": "code",
   "execution_count": 13,
   "id": "6c94e752",
   "metadata": {
    "execution": {
     "iopub.execute_input": "2023-12-14T17:08:14.952506Z",
     "iopub.status.busy": "2023-12-14T17:08:14.952307Z",
     "iopub.status.idle": "2023-12-14T17:08:14.956651Z",
     "shell.execute_reply": "2023-12-14T17:08:14.956046Z"
    },
    "id": "6c94e752",
    "outputId": "a9d2d9ad-89b4-4c13-d18e-ad5ec67a8fa5"
   },
   "outputs": [
    {
     "name": "stdout",
     "output_type": "stream",
     "text": [
      "Prediction from unscaled input features:  3740.0\n",
      "Prediction from scaled input features:  3953.0\n"
     ]
    },
    {
     "name": "stderr",
     "output_type": "stream",
     "text": [
      "/nix/store/msas3yllgpa9cv1srn6gxry7ygra9hwm-python3-3.10.9-env/lib/python3.10/site-packages/sklearn/base.py:420: UserWarning: X does not have valid feature names, but KNeighborsRegressor was fitted with feature names\n",
      "  warnings.warn(\n"
     ]
    }
   ],
   "source": [
    "# Predict price for new instance using unscaled input features\n",
    "print(\"Prediction from unscaled input features: \", knnrUnscaledFit.predict(Xnew)[0][0])\n",
    "\n",
    "# Predict price for new instance using scaled input features\n",
    "# Find scaled input features for new instance\n",
    "XsqftScaled = (Xsqft - rent['sqft'].mean())/(rent['sqft'].var()**.5)\n",
    "XbedsScaled = (Xsqft - rent['beds'].mean())/(rent['beds'].var()**.5)\n",
    "XbathsScaled = (Xsqft - rent['baths'].mean())/(rent['baths'].var()**.5)\n",
    "\n",
    "XnewScaled = [[XsqftScaled, XbedsScaled, XbathsScaled]]\n",
    "\n",
    "print(\"Prediction from scaled input features: \",knnrScaledFit.predict(XnewScaled)[0][0])"
   ]
  },
  {
   "cell_type": "code",
   "execution_count": 14,
   "id": "d588bf07",
   "metadata": {
    "execution": {
     "iopub.execute_input": "2023-12-14T17:08:14.958259Z",
     "iopub.status.busy": "2023-12-14T17:08:14.958173Z",
     "iopub.status.idle": "2023-12-14T17:08:14.965041Z",
     "shell.execute_reply": "2023-12-14T17:08:14.963314Z"
    },
    "id": "d588bf07",
    "outputId": "5d73df57-893a-43ee-b6ec-767e75892c84"
   },
   "outputs": [
    {
     "name": "stderr",
     "output_type": "stream",
     "text": [
      "/nix/store/msas3yllgpa9cv1srn6gxry7ygra9hwm-python3-3.10.9-env/lib/python3.10/site-packages/sklearn/base.py:420: UserWarning: X does not have valid feature names, but KNeighborsRegressor was fitted with feature names\n",
      "  warnings.warn(\n"
     ]
    },
    {
     "data": {
      "text/html": [
       "<div>\n",
       "<style scoped>\n",
       "    .dataframe tbody tr th:only-of-type {\n",
       "        vertical-align: middle;\n",
       "    }\n",
       "\n",
       "    .dataframe tbody tr th {\n",
       "        vertical-align: top;\n",
       "    }\n",
       "\n",
       "    .dataframe thead th {\n",
       "        text-align: right;\n",
       "    }\n",
       "</style>\n",
       "<table border=\"1\" class=\"dataframe\">\n",
       "  <thead>\n",
       "    <tr style=\"text-align: right;\">\n",
       "      <th></th>\n",
       "      <th>price</th>\n",
       "      <th>beds</th>\n",
       "      <th>baths</th>\n",
       "      <th>sqft</th>\n",
       "    </tr>\n",
       "  </thead>\n",
       "  <tbody>\n",
       "    <tr>\n",
       "      <th>2018</th>\n",
       "      <td>3250</td>\n",
       "      <td>3.0</td>\n",
       "      <td>2.5</td>\n",
       "      <td>1983.0</td>\n",
       "    </tr>\n",
       "    <tr>\n",
       "      <th>2000</th>\n",
       "      <td>4250</td>\n",
       "      <td>4.0</td>\n",
       "      <td>3.0</td>\n",
       "      <td>1950.0</td>\n",
       "    </tr>\n",
       "    <tr>\n",
       "      <th>2026</th>\n",
       "      <td>4200</td>\n",
       "      <td>3.0</td>\n",
       "      <td>2.5</td>\n",
       "      <td>1925.0</td>\n",
       "    </tr>\n",
       "    <tr>\n",
       "      <th>1983</th>\n",
       "      <td>3500</td>\n",
       "      <td>3.0</td>\n",
       "      <td>2.5</td>\n",
       "      <td>1900.0</td>\n",
       "    </tr>\n",
       "    <tr>\n",
       "      <th>1993</th>\n",
       "      <td>3500</td>\n",
       "      <td>4.0</td>\n",
       "      <td>2.5</td>\n",
       "      <td>1900.0</td>\n",
       "    </tr>\n",
       "  </tbody>\n",
       "</table>\n",
       "</div>"
      ],
      "text/plain": [
       "      price  beds  baths    sqft\n",
       "2018   3250   3.0    2.5  1983.0\n",
       "2000   4250   4.0    3.0  1950.0\n",
       "2026   4200   3.0    2.5  1925.0\n",
       "1983   3500   3.0    2.5  1900.0\n",
       "1993   3500   4.0    2.5  1900.0"
      ]
     },
     "execution_count": 14,
     "metadata": {},
     "output_type": "execute_result"
    }
   ],
   "source": [
    "# Unscaled nearest neighbors\n",
    "rent.iloc[knnrUnscaledFit.kneighbors(Xnew)[1][0]]"
   ]
  },
  {
   "cell_type": "code",
   "execution_count": 15,
   "id": "0443b27a",
   "metadata": {
    "execution": {
     "iopub.execute_input": "2023-12-14T17:08:14.966830Z",
     "iopub.status.busy": "2023-12-14T17:08:14.966736Z",
     "iopub.status.idle": "2023-12-14T17:08:14.971257Z",
     "shell.execute_reply": "2023-12-14T17:08:14.970752Z"
    },
    "id": "0443b27a",
    "outputId": "963334d5-8729-4c3f-dd07-efe82212fce8"
   },
   "outputs": [
    {
     "data": {
      "text/html": [
       "<div>\n",
       "<style scoped>\n",
       "    .dataframe tbody tr th:only-of-type {\n",
       "        vertical-align: middle;\n",
       "    }\n",
       "\n",
       "    .dataframe tbody tr th {\n",
       "        vertical-align: top;\n",
       "    }\n",
       "\n",
       "    .dataframe thead th {\n",
       "        text-align: right;\n",
       "    }\n",
       "</style>\n",
       "<table border=\"1\" class=\"dataframe\">\n",
       "  <thead>\n",
       "    <tr style=\"text-align: right;\">\n",
       "      <th></th>\n",
       "      <th>price</th>\n",
       "      <th>beds</th>\n",
       "      <th>baths</th>\n",
       "      <th>sqft</th>\n",
       "    </tr>\n",
       "  </thead>\n",
       "  <tbody>\n",
       "    <tr>\n",
       "      <th>1959</th>\n",
       "      <td>3495</td>\n",
       "      <td>3.0</td>\n",
       "      <td>3.5</td>\n",
       "      <td>1587.0</td>\n",
       "    </tr>\n",
       "    <tr>\n",
       "      <th>2000</th>\n",
       "      <td>4250</td>\n",
       "      <td>4.0</td>\n",
       "      <td>3.0</td>\n",
       "      <td>1950.0</td>\n",
       "    </tr>\n",
       "    <tr>\n",
       "      <th>1997</th>\n",
       "      <td>4475</td>\n",
       "      <td>4.0</td>\n",
       "      <td>3.0</td>\n",
       "      <td>2100.0</td>\n",
       "    </tr>\n",
       "    <tr>\n",
       "      <th>1886</th>\n",
       "      <td>3550</td>\n",
       "      <td>4.0</td>\n",
       "      <td>3.0</td>\n",
       "      <td>2222.0</td>\n",
       "    </tr>\n",
       "    <tr>\n",
       "      <th>1963</th>\n",
       "      <td>3995</td>\n",
       "      <td>4.0</td>\n",
       "      <td>3.0</td>\n",
       "      <td>2280.0</td>\n",
       "    </tr>\n",
       "  </tbody>\n",
       "</table>\n",
       "</div>"
      ],
      "text/plain": [
       "      price  beds  baths    sqft\n",
       "1959   3495   3.0    3.5  1587.0\n",
       "2000   4250   4.0    3.0  1950.0\n",
       "1997   4475   4.0    3.0  2100.0\n",
       "1886   3550   4.0    3.0  2222.0\n",
       "1963   3995   4.0    3.0  2280.0"
      ]
     },
     "execution_count": 15,
     "metadata": {},
     "output_type": "execute_result"
    }
   ],
   "source": [
    "# Scaled nearest neighbors\n",
    "rent.iloc[knnrScaledFit.kneighbors(XnewScaled)[1][0]]"
   ]
  }
 ],
 "metadata": {
  "colab": {
   "provenance": []
  },
  "kernelspec": {
   "display_name": "Python 3 - python3",
   "language": "python3",
   "name": "python3"
  },
  "language_info": {
   "codemirror_mode": {
    "name": "ipython",
    "version": 3
   },
   "file_extension": ".py",
   "mimetype": "text/x-python",
   "name": "python",
   "nbconvert_exporter": "python",
   "pygments_lexer": "ipython3",
   "version": "3.10.9"
  }
 },
 "nbformat": 4,
 "nbformat_minor": 5
}
